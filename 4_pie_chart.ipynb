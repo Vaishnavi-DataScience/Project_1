{
 "cells": [
  {
   "cell_type": "markdown",
   "metadata": {},
   "source": [
    "## Pie Chart Generation Script\n",
    "\n",
    "<!-- Prerequisites\n",
    "Make sure Python and the required libraries are installed: -->\n"
   ]
  },
  {
   "cell_type": "code",
   "execution_count": 1,
   "metadata": {},
   "outputs": [],
   "source": [
    "import pandas as pd\n",
    "import os\n",
    "import matplotlib.pyplot as plt\n"
   ]
  },
  {
   "cell_type": "markdown",
   "metadata": {},
   "source": [
    "## Features\n",
    "\n",
    "- Reads CSV files containing workflow step timestamp ranges.\n",
    "- Converts time values to seconds for easier calculations.\n",
    "- Calculates the duration of each workflow step.\n",
    "- Generates pie charts showing the distribution of workflow step durations.\n",
    "- Saves the generated pie charts as PNG files in the output directory.\n"
   ]
  },
  {
   "cell_type": "code",
   "execution_count": null,
   "metadata": {},
   "outputs": [],
   "source": [
    "\n",
    "input_dir = '/Users/nvaishnavi/Documents/Instructional_Video_analysis/6_final_timestamp_ranges'\n",
    "output_dir = '/Users/nvaishnavi/Documents/Instructional_Video_analysis/8_pie_charts_all'\n",
    "\n",
    "\n",
    "def time_to_seconds(time_str):\n",
    "    time_parts = time_str.split(\":\")\n",
    "    return int(time_parts[0]) * 3600 + int(time_parts[1]) * 60 + float(time_parts[2])\n",
    "\n",
    "\n",
    "def sanitize_filename(filename):\n",
    "    \n",
    "    return ''.join(c if c.isalnum() or c == '_' else '_' for c in filename)\n",
    "\n",
    "\n",
    "for filename in os.listdir(input_dir):\n",
    "    if filename.endswith('.csv'):  \n",
    "        print(f\"Processing file: {filename}\")\n",
    "\n",
    "        \n",
    "        file_path = os.path.join(input_dir, filename)\n",
    "        df = pd.read_csv(file_path)\n",
    "\n",
    "        \n",
    "        df['Start Time (seconds)'] = df['Start Time'].apply(time_to_seconds)\n",
    "        df['End Time (seconds)'] = df['End Time'].apply(time_to_seconds)\n",
    "        df['Duration (seconds)'] = df['End Time (seconds)'] - df['Start Time (seconds)']\n",
    "\n",
    "        \n",
    "        plt.figure(figsize=(8, 6))\n",
    "        plt.pie(df['Duration (seconds)'], labels=df['Workflow Step'], autopct='%1.1f%%', startangle=140)\n",
    "        plt.title(f\"Workflow Step Duration Distribution - {filename}\")\n",
    "        plt.axis('equal')  \n",
    "\n",
    "        \n",
    "        sanitized_filename = sanitize_filename(filename)\n",
    "        pie_chart_path = os.path.join(output_dir, f\"pie_chart_{sanitized_filename}.png\")\n",
    "\n",
    "        \n",
    "        plt.savefig(pie_chart_path)\n",
    "\n",
    "        print(f\"Pie chart saved to: {pie_chart_path}\")\n",
    "        plt.close()\n",
    "\n",
    "print(\"Pie charts generated for all files.\")"
   ]
  }
 ],
 "metadata": {
  "kernelspec": {
   "display_name": "base",
   "language": "python",
   "name": "python3"
  },
  "language_info": {
   "codemirror_mode": {
    "name": "ipython",
    "version": 3
   },
   "file_extension": ".py",
   "mimetype": "text/x-python",
   "name": "python",
   "nbconvert_exporter": "python",
   "pygments_lexer": "ipython3",
   "version": "3.12.7"
  }
 },
 "nbformat": 4,
 "nbformat_minor": 2
}
