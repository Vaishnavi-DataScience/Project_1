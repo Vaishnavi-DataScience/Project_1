{
 "cells": [
  {
   "cell_type": "markdown",
   "metadata": {},
   "source": [
    "# VTT to SRT Conversion Script\n",
    "\n",
    "This script automates the conversion of .vtt (WebVTT) subtitle files into .srt (SubRip) format. It processes all .vtt files in the specified input directory and saves the converted .srt files in the output directory.\n",
    "\n",
    "# Prerequisites\n",
    "\n",
    "Ensure that Python and the webvtt-py library are installed. You can install it using:\n",
    "                    pip install webvtt-py"
   ]
  },
  {
   "cell_type": "code",
   "execution_count": 3,
   "metadata": {},
   "outputs": [],
   "source": [
    "import webvtt\n",
    "import os"
   ]
  },
  {
   "cell_type": "markdown",
   "metadata": {},
   "source": [
    "# Features\n",
    "\n",
    "<!-- Checks if the output directory exists, and creates it if necessary.\n",
    "\n",
    "Iterates through all .vtt files in the input folder.\n",
    "\n",
    "Converts each .vtt file to .srt format using the webvtt module.\n",
    "\n",
    "Implements error handling to manage conversion failures gracefully. -->\n",
    "\n"
   ]
  },
  {
   "cell_type": "code",
   "execution_count": null,
   "metadata": {},
   "outputs": [],
   "source": [
    "input_folder = \"/Users/nvaishnavi/Desktop/Instructional_video_analysis/2_all_subtitles\"\n",
    "output_folder = \"/Users/nvaishnavi/Desktop/Instructional_video_analysis/3_all_subtitles_srt\"\n",
    "\n",
    "# if o/p folder exists then okay ..otherwise it create's one\n",
    "os.makedirs(output_folder, exist_ok=True)\n",
    "\n",
    "# Loop all .vtt files in the i/p folder\n",
    "for filename in os.listdir(input_folder):\n",
    "    if filename.endswith(\".vtt\"):\n",
    "        vtt_file = os.path.join(input_folder, filename)\n",
    "        \n",
    "        srt_filename = filename.replace(\".vtt\", \".srt\")\n",
    "        srt_file = os.path.join(output_folder, srt_filename)\n",
    "\n",
    "        # Convert .vtt to .srt\n",
    "        try:\n",
    "            webvtt.read(vtt_file).save(srt_file)\n",
    "            print(f\"Converted {vtt_file} to {srt_file}\")\n",
    "        except Exception as e:\n",
    "            print(f\"Error converting {vtt_file}: {e}\")\n"
   ]
  }
 ],
 "metadata": {
  "kernelspec": {
   "display_name": "base",
   "language": "python",
   "name": "python3"
  },
  "language_info": {
   "codemirror_mode": {
    "name": "ipython",
    "version": 3
   },
   "file_extension": ".py",
   "mimetype": "text/x-python",
   "name": "python",
   "nbconvert_exporter": "python",
   "pygments_lexer": "ipython3",
   "version": "3.12.7"
  }
 },
 "nbformat": 4,
 "nbformat_minor": 2
}
