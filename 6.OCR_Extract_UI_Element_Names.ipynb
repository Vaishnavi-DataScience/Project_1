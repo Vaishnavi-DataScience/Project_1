{
 "cells": [
  {
   "cell_type": "markdown",
   "metadata": {},
   "source": [
    "UI Element Detection Script"
   ]
  },
  {
   "cell_type": "markdown",
   "metadata": {},
   "source": [
    "# To install all required dependencies, run\n",
    "          !pip install -r requirements.txt"
   ]
  },
  {
   "cell_type": "code",
   "execution_count": 8,
   "metadata": {},
   "outputs": [],
   "source": [
    "import cv2\n",
    "import os\n",
    "import numpy as np\n",
    "import pytesseract"
   ]
  },
  {
   "cell_type": "code",
   "execution_count": 17,
   "metadata": {},
   "outputs": [],
   "source": [
    "import pytesseract\n",
    "\n",
    "\n",
    "pytesseract.pytesseract.tesseract_cmd = \"/usr/local/bin/tesseract \"\n"
   ]
  },
  {
   "cell_type": "markdown",
   "metadata": {},
   "source": [
    " ## Features\n",
    "\n",
    " Detects UI elements (buttons, icons, toolbars) in extracted frames from videos.\n",
    "Uses edge detection, contour extraction, and text region filtering to identify UI elements.\n",
    " Saves processed frames with highlighted UI elements (bounding boxes and labels)."
   ]
  },
  {
   "cell_type": "markdown",
   "metadata": {},
   "source": [
    "## The detect_ui_elements(image) function:\n",
    "\n",
    " Converts the image to grayscale and applies Gaussian blur to reduce noise.\n",
    " Applies adaptive thresholding to enhance contrast.\n",
    " Uses Canny edge detection to identify edges in the image.\n",
    " Applies morphological transformations (dilation and erosion) to refine the edges.\n",
    " Extracts contours (shapes) from the processed image.\n"
   ]
  },
  {
   "cell_type": "code",
   "execution_count": null,
   "metadata": {},
   "outputs": [],
   "source": [
    "import os\n",
    "import cv2\n",
    "import numpy as np\n",
    "import pytesseract\n",
    "\n",
    "\n",
    "video_directory = \"/Users/nvaishnavi/Documents/Instructional_Video_analysis/7_extracted_frames\"\n",
    "output_directory = \"/Users/nvaishnavi/Documents/Instructional_video_analysis/10_final_ui_elements_detection\"\n",
    "\n",
    "\n",
    "os.makedirs(output_directory, exist_ok=True)\n",
    "\n",
    "\n",
    "def detect_ui_elements(image):\n",
    "    \"\"\"Detects UI elements (buttons, icons, toolbars) based on edges, contours, and color, skipping text regions.\"\"\"\n",
    "    gray_image = cv2.cvtColor(image, cv2.COLOR_BGR2GRAY)\n",
    "    blurred_image = cv2.GaussianBlur(gray_image, (5, 5), 0)  # Reduce noise\n",
    "    \n",
    "   \n",
    "    thresh = cv2.adaptiveThreshold(blurred_image, 255, cv2.ADAPTIVE_THRESH_GAUSSIAN_C, \n",
    "                                  cv2.THRESH_BINARY, 11, 2)\n",
    "\n",
    "   \n",
    "    edges = cv2.Canny(thresh, 50, 150)  \n",
    "    \n",
    "    kernel = np.ones((3, 3), np.uint8)\n",
    "    dilated = cv2.dilate(edges, kernel, iterations=1)  \n",
    "    eroded = cv2.erode(dilated, kernel, iterations=1)  \n",
    "\n",
    "    \n",
    "    contours, _ = cv2.findContours(eroded, cv2.RETR_EXTERNAL, cv2.CHAIN_APPROX_SIMPLE)\n",
    "\n",
    "   \n",
    "    text_regions = detect_text_regions(image)\n",
    "\n",
    "    detected = image.copy()  \n",
    "    \n",
    "    for contour in contours:\n",
    "       \n",
    "        if cv2.contourArea(contour) < 500:  \n",
    "            continue\n",
    "        \n",
    "       \n",
    "        x, y, w, h = cv2.boundingRect(contour)\n",
    "\n",
    "        \n",
    "        if is_contour_in_text_region(x, y, w, h, text_regions):\n",
    "            continue\n",
    "\n",
    "    \n",
    "        aspect_ratio = float(w) / h\n",
    "        if aspect_ratio < 0.2 or aspect_ratio > 5.0:\n",
    "            continue  \n",
    "        \n",
    "        cv2.rectangle(detected, (x, y), (x + w, y + h), (0, 255, 0), 2)\n",
    "\n",
    "      \n",
    "        cv2.putText(detected, \"UI Element\", (x, y - 10), cv2.FONT_HERSHEY_SIMPLEX, 0.5, (0, 255, 0), 2)\n",
    "\n",
    "    return detected\n",
    "\n",
    "def detect_text_regions(image):\n",
    "    \"\"\"Detect text regions using Tesseract OCR.\"\"\"\n",
    "    \n",
    "    h, w, _ = image.shape\n",
    "    text_boxes = pytesseract.image_to_boxes(image)  \n",
    "    \n",
    "    \n",
    "    text_regions = []\n",
    "    for box in text_boxes.splitlines():\n",
    "        b = box.split()\n",
    "        x, y, x2, y2 = int(b[1]), int(b[2]), int(b[3]), int(b[4])\n",
    "        text_regions.append((x, y, x2, y2))\n",
    "    \n",
    "    return text_regions\n",
    "\n",
    "def is_contour_in_text_region(x, y, w, h, text_regions):\n",
    "    \"\"\"Check if a contour is inside any text region.\"\"\"\n",
    "    for (tx, ty, tx2, ty2) in text_regions:\n",
    "        if (x + w > tx and x < tx2 and y + h > ty and y < ty2):\n",
    "            return True  \n",
    "    return False\n",
    "\n",
    "\n",
    "for video_folder in os.listdir(video_directory):\n",
    "    video_path = os.path.join(video_directory, video_folder)\n",
    "\n",
    "    if not os.path.isdir(video_path):\n",
    "        continue\n",
    "\n",
    "\n",
    "    output_subfolder = os.path.join(output_directory, video_folder)\n",
    "    os.makedirs(output_subfolder, exist_ok=True)\n",
    "\n",
    "\n",
    "    for frame_name in os.listdir(video_path):\n",
    "        frame_path = os.path.join(video_path, frame_name)\n",
    "\n",
    "        \n",
    "        image = cv2.imread(frame_path)\n",
    "        if image is None:\n",
    "            continue\n",
    "\n",
    "        \n",
    "        processed_image = detect_ui_elements(image)\n",
    "\n",
    "        \n",
    "        output_frame_path = os.path.join(output_subfolder, frame_name)\n",
    "        cv2.imwrite(output_frame_path, processed_image)\n",
    "\n",
    "print(\"UI element detection (buttons, icons, toolbars) completed.\")\n",
    "\n"
   ]
  }
 ],
 "metadata": {
  "kernelspec": {
   "display_name": "base",
   "language": "python",
   "name": "python3"
  },
  "language_info": {
   "codemirror_mode": {
    "name": "ipython",
    "version": 3
   },
   "file_extension": ".py",
   "mimetype": "text/x-python",
   "name": "python",
   "nbconvert_exporter": "python",
   "pygments_lexer": "ipython3",
   "version": "3.12.7"
  }
 },
 "nbformat": 4,
 "nbformat_minor": 2
}
