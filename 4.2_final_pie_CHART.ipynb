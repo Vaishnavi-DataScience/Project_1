{
 "cells": [
  {
   "cell_type": "markdown",
   "metadata": {},
   "source": [
    "## Final pie chart:\n",
    "\n",
    "Install  Below with requirement file"
   ]
  },
  {
   "cell_type": "code",
   "execution_count": 1,
   "metadata": {},
   "outputs": [],
   "source": [
    "import os\n",
    "import pandas as pd\n",
    "import matplotlib.pyplot as plt\n"
   ]
  },
  {
   "cell_type": "code",
   "execution_count": null,
   "metadata": {},
   "outputs": [],
   "source": [
    "\n",
    "input_dir = '/Users/nvaishnavi/Desktop/Instructional_video_analysis/6_final_timestamp_ranges'\n",
    "output_dir = '/Users/nvaishnavi/Desktop/Instructional_video_analysis/8.2_final_pie_chart'\n",
    "\n",
    "\n",
    "def time_to_seconds(time_str):\n",
    "    time_parts = time_str.split(\":\")\n",
    "    return int(time_parts[0]) * 3600 + int(time_parts[1]) * 60 + float(time_parts[2])\n",
    "\n",
    "\n",
    "aggregated_durations = {}\n",
    "\n",
    "\n",
    "for filename in os.listdir(input_dir):\n",
    "    if filename.endswith('.csv'):\n",
    "        file_path = os.path.join(input_dir, filename)\n",
    "        df = pd.read_csv(file_path)\n",
    "\n",
    "       \n",
    "        df['Start Time (seconds)'] = df['Start Time'].apply(time_to_seconds)\n",
    "        df['End Time (seconds)'] = df['End Time'].apply(time_to_seconds)\n",
    "        df['Duration (seconds)'] = df['End Time (seconds)'] - df['Start Time (seconds)']\n",
    "\n",
    "        \n",
    "        for idx, row in df.iterrows():\n",
    "            step = row['Workflow Step']\n",
    "            duration = row['Duration (seconds)']\n",
    "            aggregated_durations[step] = aggregated_durations.get(step, 0) + duration\n",
    "\n",
    "\n",
    "if aggregated_durations:\n",
    "    steps = list(aggregated_durations.keys())\n",
    "    durations = list(aggregated_durations.values())\n",
    "\n",
    "    plt.figure(figsize=(8, 6))\n",
    "    plt.pie(durations, labels=steps, autopct='%1.1f%%', startangle=140)\n",
    "    plt.title(\"Final Workflow Step Duration Distribution (All Videos)\")\n",
    "    plt.axis('equal')  \n",
    "\n",
    "    \n",
    "    os.makedirs(output_dir, exist_ok=True)\n",
    "    summary_chart_path = os.path.join(output_dir, \"final_pie_chart.png\")\n",
    "    plt.savefig(summary_chart_path)\n",
    "    plt.close()\n",
    "    print(f\"Final summary pie chart saved to: {summary_chart_path}\")\n",
    "else:\n",
    "    print(\"No durations were aggregated. Please check your input files.\")\n",
    "\n",
    "print(\"Final pie chart generated successfully.\")\n"
   ]
  }
 ],
 "metadata": {
  "kernelspec": {
   "display_name": "base",
   "language": "python",
   "name": "python3"
  },
  "language_info": {
   "codemirror_mode": {
    "name": "ipython",
    "version": 3
   },
   "file_extension": ".py",
   "mimetype": "text/x-python",
   "name": "python",
   "nbconvert_exporter": "python",
   "pygments_lexer": "ipython3",
   "version": "3.12.7"
  }
 },
 "nbformat": 4,
 "nbformat_minor": 2
}
