{
 "cells": [
  {
   "cell_type": "markdown",
   "metadata": {},
   "source": [
    "# To install all required dependencies, run\n",
    "          !pip install -r requirements.txt"
   ]
  },
  {
   "cell_type": "code",
   "execution_count": null,
   "metadata": {},
   "outputs": [],
   "source": [
    "! pip install -r requirements.txt"
   ]
  },
  {
   "cell_type": "markdown",
   "metadata": {},
   "source": [
    "# Clustering and Categorization Script\n",
    "\n",
    "## Prerequisites\n",
    "\n",
    "Ensure that Python and the required libraries are installed. You can install them using:\n",
    "\n",
    "```bash\n",
    "pip install pandas nltk scikit-learn\n",
    "```\n"
   ]
  },
  {
   "cell_type": "code",
   "execution_count": 5,
   "metadata": {},
   "outputs": [],
   "source": [
    "import os\n",
    "import pandas as pd\n",
    "import re\n",
    "from nltk.corpus import stopwords\n",
    "from nltk.tokenize import word_tokenize\n",
    "from sklearn.feature_extraction.text import TfidfVectorizer\n",
    "from sklearn.cluster import KMeans\n",
    "import nltk"
   ]
  },
  {
   "cell_type": "markdown",
   "metadata": {},
   "source": [
    "# Clustering and Categorization Script\n",
    "\n",
    "## Features\n",
    "\n",
    "- Reads CSV files containing subtitle text and timestamps.\n",
    "- Preprocesses the text by converting to lowercase, removing punctuation, and eliminating stopwords.\n",
    "- Uses TF-IDF vectorization to convert text data into numerical representations.\n",
    "- Applies K-Means clustering to categorize workflow steps into predefined categories.\n",
    "- Maps detected clusters to meaningful workflow step names.\n",
    "- Saves the categorized data into new CSV files in the output directory."
   ]
  },
  {
   "cell_type": "code",
   "execution_count": null,
   "metadata": {},
   "outputs": [],
   "source": [
    "\n",
    "nltk.download('stopwords')    \n",
    "nltk.download('punkt')\n",
    "\n",
    "\n",
    "input_dir = '/Users/nvaishnavi/Documents/Instructional_video_analysis/4_all_CSV'\n",
    "output_dir = '/Users/nvaishnavi/Documents/Instructional_Video_analysis/5_clustered_categorized_file'\n",
    "os.makedirs(output_dir, exist_ok=True)\n",
    "\n",
    "# Preprocess text\n",
    "def preprocess_text(text):\n",
    "    #  \n",
    "    text = text.lower()\n",
    "    text = re.sub(r'[^\\w\\s]', '', text)  \n",
    "    tokens = word_tokenize(text)\n",
    "    stop_words = set(stopwords.words('english'))\n",
    "    return ' '.join([word for word in tokens if word not in stop_words])\n",
    "\n",
    "custom_mapping = {\n",
    "    0: \"Introduction\",\n",
    "    1: \"Step-by-Step Instruction\",\n",
    "    2: \"Context Setting\",\n",
    "    3: \"Transitions\",\n",
    "    4: \"Recap\",\n",
    "    5: \"Practical Application\",\n",
    "    6: \"Conclusion\"\n",
    "}\n",
    "\n",
    "# Process 3_all_CSV files \n",
    "for filename in os.listdir(input_dir):\n",
    "    if filename.endswith('.csv'):  # Process only CSV files\n",
    "        print(f\"Processing file: {filename}\")\n",
    "\n",
    "        \n",
    "        file_path = os.path.join(input_dir, filename)\n",
    "        df = pd.read_csv(file_path)\n",
    "\n",
    "      \n",
    "        df['Cleaned Text'] = df['Text'].apply(preprocess_text)\n",
    "\n",
    "       \n",
    "        vectorizer = TfidfVectorizer(max_features=1000)\n",
    "        X = vectorizer.fit_transform(df['Cleaned Text'])\n",
    "\n",
    "        \n",
    "        n_clusters = 7 \n",
    "        kmeans = KMeans(n_clusters=n_clusters, random_state=42)\n",
    "        df['Cluster'] = kmeans.fit_predict(X)\n",
    "\n",
    "        \n",
    "        df['Workflow Step'] = df['Cluster'].map(custom_mapping)\n",
    "\n",
    "        output_file = os.path.join(output_dir, filename)\n",
    "        df.to_csv(output_file, index=False)\n",
    "\n",
    "        print(f\"File with refined mapping saved to: {output_file}\")\n",
    "\n",
    "print(\"All files processed.\")\n"
   ]
  }
 ],
 "metadata": {
  "kernelspec": {
   "display_name": "base",
   "language": "python",
   "name": "python3"
  },
  "language_info": {
   "codemirror_mode": {
    "name": "ipython",
    "version": 3
   },
   "file_extension": ".py",
   "mimetype": "text/x-python",
   "name": "python",
   "nbconvert_exporter": "python",
   "pygments_lexer": "ipython3",
   "version": "3.12.7"
  }
 },
 "nbformat": 4,
 "nbformat_minor": 2
}
