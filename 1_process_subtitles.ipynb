{
 "cells": [
  {
   "cell_type": "markdown",
   "metadata": {},
   "source": [
    "# To install all required dependencies, run\n",
    "          !pip install -r requirements.txt"
   ]
  },
  {
   "cell_type": "code",
   "execution_count": null,
   "metadata": {},
   "outputs": [],
   "source": [
    "! pip install -r requirements.txt"
   ]
  },
  {
   "cell_type": "code",
   "execution_count": 3,
   "metadata": {},
   "outputs": [],
   "source": [
    "import os\n",
    "import pandas as pd\n",
    "import pysrt"
   ]
  },
  {
   "cell_type": "markdown",
   "metadata": {},
   "source": [
    "# SRT TO CSV:\n",
    "\n",
    "This script automates the conversion of .vtt (WebVTT) subtitle files into .srt (SubRip) format and then converts .srt files into .csv format. It processes all subtitle files in the specified input directories and saves the converted files in the corresponding output directories.\n",
    "\n"
   ]
  },
  {
   "cell_type": "markdown",
   "metadata": {},
   "source": [
    "# Features\n",
    "\n",
    "<!-- Checks if the output directories exist, and creates them if necessary.\n",
    "\n",
    "Iterates through all .vtt files in the input folder and converts them to .srt format.\n",
    "\n",
    "Iterates through all .srt files in the input folder and converts them to .csv format.\n",
    "\n",
    "Implements error handling to manage conversion failures gracefully -->"
   ]
  },
  {
   "cell_type": "code",
   "execution_count": null,
   "metadata": {},
   "outputs": [],
   "source": [
    "\n",
    "input_dir = \"/Users/nvaishnavi/Documents/Instructional_video_analysis/3_all_subtitles_srt\"\n",
    "output_dir = \"/Users/nvaishnavi/Documents/Instructional_video_analysis/4_all_CSV\"\n",
    "\n",
    "\n",
    "os.makedirs(output_dir, exist_ok=True)\n",
    "\n",
    "# Function to convert .srt to .csv\n",
    "def convert_srt_to_csv(srt_path, csv_path):\n",
    "    \n",
    "    subs = pysrt.open(srt_path)\n",
    "    \n",
    "    # Extract start time, end time, and text\n",
    "    data = [\n",
    "        {\n",
    "            'Start Time': sub.start.to_time(),\n",
    "            'End Time': sub.end.to_time(),\n",
    "            'Text': sub.text.replace('\\n', ' ') \n",
    "        }\n",
    "        for sub in subs\n",
    "    ]\n",
    "    \n",
    "    # DataFrame creation\n",
    "    df = pd.DataFrame(data)\n",
    "    \n",
    "    # Save to CSV\n",
    "    df.to_csv(csv_path, index=False)\n",
    "\n",
    "# loop\n",
    "for filename in os.listdir(input_dir):\n",
    "    if filename.endswith('.srt'):\n",
    "        srt_path = os.path.join(input_dir, filename)\n",
    "        csv_path = os.path.join(output_dir, f\"{os.path.splitext(filename)[0]}.csv\")\n",
    "        \n",
    "        # Convert and save to CSV\n",
    "        convert_srt_to_csv(srt_path, csv_path)\n",
    "        print(f\"Converted: {srt_path} -> {csv_path}\")\n",
    "\n",
    "\n"
   ]
  }
 ],
 "metadata": {
  "kernelspec": {
   "display_name": "base",
   "language": "python",
   "name": "python3"
  },
  "language_info": {
   "codemirror_mode": {
    "name": "ipython",
    "version": 3
   },
   "file_extension": ".py",
   "mimetype": "text/x-python",
   "name": "python",
   "nbconvert_exporter": "python",
   "pygments_lexer": "ipython3",
   "version": "3.12.7"
  }
 },
 "nbformat": 4,
 "nbformat_minor": 2
}
