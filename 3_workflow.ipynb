{
 "cells": [
  {
   "cell_type": "markdown",
   "metadata": {},
   "source": []
  },
  {
   "cell_type": "markdown",
   "metadata": {},
   "source": [
    "## WORKFLOW EXTRACTION\n",
    "<!-- Prerequisites -->\n",
    "\n",
    "Ensure Python and the required libraries are installed. Install dependencies using: -->"
   ]
  },
  {
   "cell_type": "code",
   "execution_count": 3,
   "metadata": {},
   "outputs": [],
   "source": [
    "import pandas as pd\n",
    "import os\n"
   ]
  },
  {
   "cell_type": "markdown",
   "metadata": {},
   "source": [
    "<!-- Features -->\n",
    "\n",
    "<!-- Reads categorized and clustered CSV files containing workflow step timestamps.\n",
    "\n",
    "Computes the earliest start time and latest end time for each workflow step.\n",
    "\n",
    "Converts timestamps from seconds into hh:mm:ss format.\n",
    "\n",
    "Saves the final timestamp ranges for each workflow step into a new CSV file. -->"
   ]
  },
  {
   "cell_type": "code",
   "execution_count": null,
   "metadata": {},
   "outputs": [],
   "source": [
    "\n",
    "input_dir = '/Users/nvaishnavi/Documents/Instructional_Video_analysis/5_clustered_categorized_file'\n",
    "output_dir = '/Users/nvaishnavi/Documents/Instructional_Video_analysis/6_final_timestamp_ranges'\n",
    "os.makedirs(output_dir, exist_ok=True)\n",
    " \n",
    "workflow_steps = {\n",
    "    0: \"Introduction\",\n",
    "    1: \"Step-by-Step Instruction\",\n",
    "    2: \"Context Setting\",\n",
    "    3: \"Transitions\",\n",
    "    4: \"Recap\",\n",
    "    5: \"Practical Application\",\n",
    "    6: \"Conclusion\"\n",
    "}\n",
    "\n",
    "\n",
    "def seconds_to_time(seconds):\n",
    "    try:\n",
    "        if seconds is None:\n",
    "            return \"00:00:00\"  \n",
    "        seconds = float(seconds)  \n",
    "        minutes, seconds = divmod(seconds, 60)\n",
    "        hours, minutes = divmod(minutes, 60)\n",
    "        return f\"{int(hours):02}:{int(minutes):02}:{int(seconds):02}\"\n",
    "    except (ValueError, TypeError):\n",
    "        return \"00:00:00\"  # Default \n",
    "\n",
    "\n",
    "for filename in os.listdir(input_dir):\n",
    "    if filename.endswith('.csv'):  \n",
    "        print(f\"Processing file: {filename}\")\n",
    "\n",
    "        \n",
    "        file_path = os.path.join(input_dir, filename)\n",
    "        df = pd.read_csv(file_path)\n",
    "\n",
    "        \n",
    "        timestamp_ranges = {step: {'start': None, 'end': None} for step in workflow_steps.values()}\n",
    "\n",
    "        \n",
    "        for index, row in df.iterrows():\n",
    "            workflow_step = row['Workflow Step']\n",
    "            start_time = row['Start Time']\n",
    "            end_time = row['End Time']\n",
    "\n",
    "           \n",
    "            if start_time is None or end_time is None or pd.isnull(start_time) or pd.isnull(end_time):\n",
    "                continue\n",
    "\n",
    "            \n",
    "            try:\n",
    "                start_time_parts = start_time.split(\":\")\n",
    "                start_time_seconds = int(start_time_parts[0]) * 3600 + int(start_time_parts[1]) * 60 + float(start_time_parts[2])\n",
    "                \n",
    "                end_time_parts = end_time.split(\":\")\n",
    "                end_time_seconds = int(end_time_parts[0]) * 3600 + int(end_time_parts[1]) * 60 + float(end_time_parts[2])\n",
    "            except ValueError:\n",
    "                continue  \n",
    "\n",
    "            \n",
    "            if timestamp_ranges[workflow_step]['start'] is None or start_time_seconds < timestamp_ranges[workflow_step]['start']:\n",
    "                timestamp_ranges[workflow_step]['start'] = start_time_seconds\n",
    "            if timestamp_ranges[workflow_step]['end'] is None or end_time_seconds > timestamp_ranges[workflow_step]['end']:\n",
    "                timestamp_ranges[workflow_step]['end'] = end_time_seconds\n",
    "\n",
    "       \n",
    "        timestamp_data = []\n",
    "        for step, times in timestamp_ranges.items():\n",
    "            start_time = seconds_to_time(times['start'])\n",
    "            end_time = seconds_to_time(times['end'])\n",
    "            timestamp_data.append([step, start_time, end_time])\n",
    "\n",
    "        \n",
    "        timestamp_df = pd.DataFrame(timestamp_data, columns=[\"Workflow Step\", \"Start Time\", \"End Time\"])\n",
    "\n",
    "        \n",
    "        output_file = os.path.join(output_dir, f\"timestamps_{filename}\")\n",
    "        timestamp_df.to_csv(output_file, index=False)\n",
    "\n",
    "        print(f\"Timestamp ranges saved to: {output_file}\")\n",
    "\n",
    "print(\"All files processed.\")\n"
   ]
  }
 ],
 "metadata": {
  "kernelspec": {
   "display_name": "base",
   "language": "python",
   "name": "python3"
  },
  "language_info": {
   "codemirror_mode": {
    "name": "ipython",
    "version": 3
   },
   "file_extension": ".py",
   "mimetype": "text/x-python",
   "name": "python",
   "nbconvert_exporter": "python",
   "pygments_lexer": "ipython3",
   "version": "3.12.7"
  }
 },
 "nbformat": 4,
 "nbformat_minor": 2
}
