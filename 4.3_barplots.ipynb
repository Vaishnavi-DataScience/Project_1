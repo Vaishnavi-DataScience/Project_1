{
 "cells": [
  {
   "cell_type": "markdown",
   "metadata": {},
   "source": [
    "## Bar Plot Generation Script\n",
    "\n",
    "<!-- Prerequisites -->\n",
    "Make sure Python and the required libraries are installed:"
   ]
  },
  {
   "cell_type": "code",
   "execution_count": 4,
   "metadata": {},
   "outputs": [],
   "source": [
    "import pandas as pd\n",
    "import matplotlib.pyplot as plt\n",
    "import os\n",
    "from datetime import datetime\n"
   ]
  },
  {
   "cell_type": "markdown",
   "metadata": {},
   "source": [
    "## Features\n",
    "\n",
    " Reads CSV files containing workflow step timestamp ranges.\n",
    " Calculates the duration of each workflow step.\n",
    " Generates bar plots showing the duration of workflow steps.\n",
    " Saves the bar plots as PNG files in the output directory."
   ]
  },
  {
   "cell_type": "code",
   "execution_count": null,
   "metadata": {},
   "outputs": [],
   "source": [
    "\n",
    "def calculate_duration(start_time, end_time):\n",
    "    fmt = \"%H:%M:%S\"\n",
    "    start = datetime.strptime(start_time, fmt)\n",
    "    end = datetime.strptime(end_time, fmt)\n",
    "    duration = (end - start).total_seconds() \n",
    "    return duration\n",
    "\n",
    "# Input and Output paths\n",
    "input_dir = \"/Users/nvaishnavi/Desktop/Instructional_video_analysis/6_final_timestamp_ranges\"\n",
    "output_dir = \"/Users/nvaishnavi/Desktop/Instructional_video_analysis/8.3_barplots\"\n",
    "\n",
    "\n",
    "if not os.path.exists(output_dir):\n",
    "    os.makedirs(output_dir)\n",
    "\n",
    "\n",
    "for filename in os.listdir(input_dir):\n",
    "    if filename.endswith(\".csv\"):\n",
    "        video_path = os.path.join(input_dir, filename)\n",
    "        \n",
    "        # Read CSV file\n",
    "        df = pd.read_csv(video_path)\n",
    "        \n",
    "        # Calculate duration for each workflow step\n",
    "        df['Duration (seconds)'] = df.apply(lambda row: calculate_duration(row['Start Time'], row['End Time']), axis=1)\n",
    "        \n",
    "       \n",
    "        plt.figure(figsize=(10, 6))\n",
    "        plt.bar(df['Workflow Step'], df['Duration (seconds)'], color='skyblue')\n",
    "        plt.xlabel('Workflow Step')\n",
    "        plt.ylabel('Duration (Seconds)')\n",
    "        plt.title(f'Workflow Step Duration - {filename.replace(\".csv\", \"\")}')\n",
    "        plt.xticks(rotation=45, ha=\"right\")\n",
    "        plt.tight_layout()\n",
    "        \n",
    "    \n",
    "        output_file = os.path.join(output_dir, f'{filename.replace(\".csv\", \"\")}_barplot.png')\n",
    "        plt.savefig(output_file)\n",
    "        plt.close()\n",
    "\n",
    "print(\"Bar plots saved successfully!\")\n"
   ]
  }
 ],
 "metadata": {
  "kernelspec": {
   "display_name": "base",
   "language": "python",
   "name": "python3"
  },
  "language_info": {
   "codemirror_mode": {
    "name": "ipython",
    "version": 3
   },
   "file_extension": ".py",
   "mimetype": "text/x-python",
   "name": "python",
   "nbconvert_exporter": "python",
   "pygments_lexer": "ipython3",
   "version": "3.12.7"
  }
 },
 "nbformat": 4,
 "nbformat_minor": 2
}
