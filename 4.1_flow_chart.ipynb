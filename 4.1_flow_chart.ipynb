{
 "cells": [
  {
   "cell_type": "markdown",
   "metadata": {},
   "source": [
    "# To install all required dependencies, run\n",
    "          !pip install -r requirements.txt"
   ]
  },
  {
   "cell_type": "code",
   "execution_count": null,
   "metadata": {},
   "outputs": [],
   "source": [
    "! pip install -r requirements.txt"
   ]
  },
  {
   "cell_type": "code",
   "execution_count": 4,
   "metadata": {},
   "outputs": [],
   "source": [
    "import os\n",
    "import pandas as pd\n",
    "import matplotlib.pyplot as plt\n",
    "import networkx as nx\n"
   ]
  },
  {
   "cell_type": "code",
   "execution_count": null,
   "metadata": {},
   "outputs": [],
   "source": [
    "\n",
    "\n",
    "input_dir = '/Users/nvaishnavi/Desktop/Instructional_video_analysis/6_final_timestamp_ranges'\n",
    "output_dir = '/Users/nvaishnavi/Desktop/Instructional_video_analysis/8.1_flowchart_all'\n",
    "\n",
    "\n",
    "os.makedirs(output_dir, exist_ok=True)\n",
    "\n",
    "\n",
    "def time_to_seconds(time_str):\n",
    "    time_parts = time_str.split(\":\")\n",
    "    return int(time_parts[0]) * 3600 + int(time_parts[1]) * 60 + float(time_parts[2])\n",
    "\n",
    "\n",
    "def sanitize_filename(filename):\n",
    "    return ''.join(c if c.isalnum() or c == '_' else '_' for c in filename)\n",
    "\n",
    "\n",
    "for filename in os.listdir(input_dir):\n",
    "    if filename.endswith('.csv'):\n",
    "        print(f\"Processing file: {filename}\")\n",
    "        \n",
    "       \n",
    "        file_path = os.path.join(input_dir, filename)\n",
    "        df = pd.read_csv(file_path)\n",
    "        \n",
    "        \n",
    "        df['Start Time (seconds)'] = df['Start Time'].apply(time_to_seconds)\n",
    "        df['End Time (seconds)'] = df['End Time'].apply(time_to_seconds)\n",
    "        df['Duration (seconds)'] = df['End Time (seconds)'] - df['Start Time (seconds)']\n",
    "\n",
    "       \n",
    "        df = df.sort_values(by='Start Time (seconds)')\n",
    "\n",
    "        \n",
    "        G = nx.DiGraph()\n",
    "\n",
    "        \n",
    "        for step in df['Workflow Step']:\n",
    "            G.add_node(step)\n",
    "\n",
    "        \n",
    "        steps = df['Workflow Step'].tolist()\n",
    "        for i in range(len(steps) - 1):\n",
    "            G.add_edge(steps[i], steps[i + 1])\n",
    "\n",
    "        # Draw the flowchart\n",
    "        plt.figure(figsize=(10, 6))\n",
    "        pos = nx.spring_layout(G, seed=42)  # Layout algorithm\n",
    "        nx.draw(G, pos, with_labels=True, node_color='lightblue', edge_color='gray', node_size=3000, font_size=10, font_weight=\"bold\", arrows=True)\n",
    "\n",
    "        \n",
    "        sanitized_filename = sanitize_filename(filename)\n",
    "        flowchart_path = os.path.join(output_dir, f\"flowchart_{sanitized_filename}.png\")\n",
    "        plt.savefig(flowchart_path)\n",
    "\n",
    "        print(f\"Flowchart saved to: {flowchart_path}\")\n",
    "        plt.close()\n",
    "\n",
    "print(\"Flowcharts generated for all files.\")\n"
   ]
  }
 ],
 "metadata": {
  "kernelspec": {
   "display_name": "base",
   "language": "python",
   "name": "python3"
  },
  "language_info": {
   "codemirror_mode": {
    "name": "ipython",
    "version": 3
   },
   "file_extension": ".py",
   "mimetype": "text/x-python",
   "name": "python",
   "nbconvert_exporter": "python",
   "pygments_lexer": "ipython3",
   "version": "3.12.7"
  }
 },
 "nbformat": 4,
 "nbformat_minor": 2
}
